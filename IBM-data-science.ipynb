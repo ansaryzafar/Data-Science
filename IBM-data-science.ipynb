{
 "cells": [
  {
   "cell_type": "markdown",
   "id": "b11c3cb0",
   "metadata": {},
   "source": [
    "# Data Science Tools and Ecosystem"
   ]
  },
  {
   "cell_type": "markdown",
   "id": "1d5889d0",
   "metadata": {},
   "source": [
    "##### In this notebook, Data Science Tools and Ecosystem are summarized."
   ]
  },
  {
   "cell_type": "markdown",
   "id": "152ab084",
   "metadata": {},
   "source": [
    "**Objectives:**"
   ]
  },
  {
   "cell_type": "markdown",
   "id": "6c4a3fa7",
   "metadata": {},
   "source": [
    "* Data Science Languages, i.e Python, R, SQL.\n",
    "* Libraries for Data Science\n",
    "* Data Science Tools and development environments\n",
    "* Jupyter Notebook and RStudio "
   ]
  },
  {
   "cell_type": "markdown",
   "id": "7eb3dcd4",
   "metadata": {},
   "source": [
    "###### Some of the popular languages that Data Scientists use are:"
   ]
  },
  {
   "cell_type": "markdown",
   "id": "2c553f56",
   "metadata": {},
   "source": [
    "1. Python\n",
    "2. R\n",
    "3. Scala\n",
    "4. SQL\n",
    "5. C++\n",
    "6. Julia"
   ]
  },
  {
   "cell_type": "markdown",
   "id": "f40ba59e",
   "metadata": {},
   "source": [
    "###### Some of the commonly used libraries by Data Scientists include:"
   ]
  },
  {
   "cell_type": "markdown",
   "id": "22b24f34",
   "metadata": {},
   "source": [
    "1. Pandas\n",
    "2. Numpy\n",
    "3. Matplotlib\n",
    "4. Scikit-learn\n",
    "5. Plotly\n",
    "6. Dplyr\n",
    "7. TensorFlow"
   ]
  },
  {
   "cell_type": "markdown",
   "id": "2df70b73",
   "metadata": {},
   "source": [
    "| Data Science Tools |\n",
    "| :------------------- |\n",
    "| Apache Spark |\n",
    "| Jupyter Notebook |\n",
    "| Anaconda |\n",
    "| RStudio |\n",
    "| VS Code |\n",
    "| Google Colab |\n",
    "| Tableau |\n",
    "| Github |"
   ]
  },
  {
   "cell_type": "markdown",
   "id": "c7cb11d9",
   "metadata": {},
   "source": [
    "### Below are a few examples of evaluating arithmatic expressions in Python"
   ]
  },
  {
   "cell_type": "code",
   "execution_count": 16,
   "id": "39df8e01",
   "metadata": {},
   "outputs": [
    {
     "data": {
      "text/plain": [
       "17"
      ]
     },
     "execution_count": 16,
     "metadata": {},
     "output_type": "execute_result"
    }
   ],
   "source": [
    "##This is a simple arithmatic expression to multiply  then add integers\n",
    "(3*4)+5"
   ]
  },
  {
   "cell_type": "code",
   "execution_count": 22,
   "id": "8d4d3922",
   "metadata": {},
   "outputs": [
    {
     "name": "stdout",
     "output_type": "stream",
     "text": [
      "200 minutes in Hours =  3.3333333333333335 hours\n"
     ]
    }
   ],
   "source": [
    "##This will convert 200 minutes to hours by dividing by 60\n",
    "print('200 minutes in Hours = ', 200/60 ,  'hours')\n"
   ]
  },
  {
   "cell_type": "markdown",
   "id": "827d4d94",
   "metadata": {},
   "source": [
    "## Author\n",
    "Muhammad Ansary"
   ]
  },
  {
   "cell_type": "code",
   "execution_count": null,
   "id": "38c1f709",
   "metadata": {},
   "outputs": [],
   "source": []
  }
 ],
 "metadata": {
  "kernelspec": {
   "display_name": "Python 3 (ipykernel)",
   "language": "python",
   "name": "python3"
  },
  "language_info": {
   "codemirror_mode": {
    "name": "ipython",
    "version": 3
   },
   "file_extension": ".py",
   "mimetype": "text/x-python",
   "name": "python",
   "nbconvert_exporter": "python",
   "pygments_lexer": "ipython3",
   "version": "3.11.5"
  }
 },
 "nbformat": 4,
 "nbformat_minor": 5
}
